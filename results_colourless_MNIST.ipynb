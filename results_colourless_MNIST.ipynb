{
 "cells": [
  {
   "cell_type": "code",
   "execution_count": null,
   "metadata": {},
   "outputs": [],
   "source": [
    "from train import *\n",
    "from generators.colourless_polythetic_MNIST import task_generator\n",
    "import numpy as np\n",
    "import os\n",
    "os.environ[\"CUDA_VISIBLE_DEVICES\"] = \"0\""
   ]
  },
  {
   "cell_type": "code",
   "execution_count": null,
   "metadata": {},
   "outputs": [],
   "source": [
    "class Config:\n",
    "    path = 'PATH_TO_DATA_FOLDER'\n",
    "    shot = 24\n",
    "    query = 8\n",
    "    train_way = 2\n",
    "    examples_per_group = 32\n",
    "    groups_per_class = 2\n",
    "    nb_val_tasks = 1000\n",
    "    max_epoch = 10000\n",
    "    prob_xor = None\n",
    "    iterations = 2\n",
    "    temp = 0.5\n",
    "    scale = 1\n",
    "    out_dim = 64\n",
    "    verbose = False\n",
    "config = Config()"
   ]
  },
  {
   "cell_type": "code",
   "execution_count": null,
   "metadata": {},
   "outputs": [],
   "source": [
    "def hot_attn(Q, K, V, temp):\n",
    "    return torch.softmax(Q@K.T/(temp),-1)@V  # * np.sqrt(K.shape[-1])\n",
    "\n",
    "def euclidean_metric(a, b):\n",
    "    n = a.shape[0]\n",
    "    m = b.shape[0]\n",
    "    a = a.unsqueeze(1).expand(n, m, -1)\n",
    "    b = b.unsqueeze(0).expand(n, m, -1)\n",
    "    logits = -((a - b)**2).sum(dim=2)\n",
    "    return logits\n",
    "\n",
    "def z_norm(x, h=1e-7):\n",
    "    return (x - x.mean(0))/(x.std(0, unbiased=True) + h)"
   ]
  },
  {
   "cell_type": "code",
   "execution_count": null,
   "metadata": {},
   "outputs": [],
   "source": [
    "def forward_euclid(train, test, train_labels, config, attn_fn=hot_attn):\n",
    "    iterations=config.iterations\n",
    "    temp=config.temp\n",
    "    scale=config.scale\n",
    "    train = z_norm(train)\n",
    "    test = z_norm(test)\n",
    "    tr0, tr1 = train[train_labels==0], train[train_labels==1]\n",
    "    \n",
    "    # Self-attention feature selection\n",
    "    for _ in range(iterations):\n",
    "        tr0 = hot_attn(tr0, tr0, tr0, temp)\n",
    "        tr1 = hot_attn(tr1, tr1, tr1, temp)     \n",
    "    rescale = tr0.abs().mean(0) + tr1.abs().mean(0)\n",
    "    rescale = scale * (rescale - rescale.min()) / (rescale.max() - rescale.min() + 1e-5)\n",
    "    \n",
    "    # Compute predictions and accuracy\n",
    "    distances = euclidean_metric(rescale*test, rescale*train)  # Shape=(nb_test, nb_train)\n",
    "    weights = torch.softmax(distances, axis=-1) # Shape=(nb_test, nb_train)\n",
    "    predictions = weights @ train_labels\n",
    "    predictions = torch.clip(predictions, 0.05, 0.95)\n",
    "    \n",
    "    return predictions"
   ]
  },
  {
   "cell_type": "markdown",
   "metadata": {},
   "source": [
    "#### Protonets"
   ]
  },
  {
   "cell_type": "code",
   "execution_count": null,
   "metadata": {},
   "outputs": [],
   "source": [
    "def classify_proto(train, test, train_labels, **kwargs):\n",
    "    tr0, tr1 = train[train_labels==0], train[train_labels==1]\n",
    "    \n",
    "    proto_tr0 = tr0.mean(0)\n",
    "    proto_tr1 = tr1.mean(0)\n",
    "    proto = torch.stack((proto_tr0, proto_tr1))\n",
    "    \n",
    "    # Compute predictions and accuracy\n",
    "    logits = euclidean_metric(test, proto)\n",
    "    predictions = torch.softmax(logits, axis=-1)[:, 1]\n",
    "    return predictions"
   ]
  },
  {
   "cell_type": "code",
   "execution_count": null,
   "metadata": {},
   "outputs": [],
   "source": [
    "model, g = train(task_generator=task_generator,\n",
    "                 forward_fn=classify_proto,\n",
    "                 config=config,\n",
    "                 xor_task=False)"
   ]
  },
  {
   "cell_type": "code",
   "execution_count": null,
   "metadata": {},
   "outputs": [],
   "source": [
    "accs_proto, _ = validate(task_generator=task_generator,\n",
    "                        forward_fn=classify_proto,\n",
    "                        config=config,\n",
    "                        model=model,\n",
    "                        xor_task=False)\n",
    "np.mean(accs_proto)"
   ]
  },
  {
   "cell_type": "code",
   "execution_count": null,
   "metadata": {},
   "outputs": [],
   "source": [
    "accs_proto_xor, _ = validate(task_generator=task_generator,\n",
    "                        forward_fn=classify_proto,\n",
    "                        config=config,\n",
    "                        model=model,\n",
    "                        xor_task=True)\n",
    "np.mean(accs_proto_xor)"
   ]
  },
  {
   "cell_type": "code",
   "execution_count": null,
   "metadata": {},
   "outputs": [],
   "source": [
    "# FS+Attn (test time)\n",
    "accs_proto_attn_test, _ = validate(task_generator=task_generator,\n",
    "                    forward_fn=forward_euclid,\n",
    "                    config=config,\n",
    "                    model=model,\n",
    "                    xor_task=False)\n",
    "np.mean(accs_proto_attn_test)"
   ]
  },
  {
   "cell_type": "code",
   "execution_count": null,
   "metadata": {},
   "outputs": [],
   "source": [
    "accs_proto_attn_test_xor, _ = validate(task_generator=task_generator,\n",
    "                    forward_fn=forward_euclid,\n",
    "                    config=config,\n",
    "                    model=model,\n",
    "                    xor_task=True)\n",
    "np.mean(accs_proto_attn_test_xor)"
   ]
  },
  {
   "cell_type": "markdown",
   "metadata": {},
   "source": [
    "#### Matching networks"
   ]
  },
  {
   "cell_type": "code",
   "execution_count": null,
   "metadata": {},
   "outputs": [],
   "source": [
    "def cosine_attn(Q, K, V):    \n",
    "    normalised_Q = Q / (Q.pow(2).sum(dim=1, keepdim=True).sqrt() + 1e-5)\n",
    "    normalised_K = K / (K.pow(2).sum(dim=1, keepdim=True).sqrt() + 1e-5)\n",
    "\n",
    "    cosine_similarities = normalised_Q @ normalised_K.T\n",
    "    weights = torch.softmax(cosine_similarities, axis=-1)\n",
    "    out = weights @ V\n",
    "    return out\n",
    "\n",
    "def forward_cosine(train, test, train_labels, config, attn_fn=cosine_attn):\n",
    "    predictions = cosine_attn(test, train, train_labels)\n",
    "    predictions = torch.clip(predictions, 0.05, 0.95)\n",
    "    \n",
    "    return predictions"
   ]
  },
  {
   "cell_type": "code",
   "execution_count": null,
   "metadata": {},
   "outputs": [],
   "source": [
    "model, g = train(task_generator=task_generator,\n",
    "                 forward_fn=forward_cosine,\n",
    "                 config=config,\n",
    "                 xor_task=False)"
   ]
  },
  {
   "cell_type": "code",
   "execution_count": null,
   "metadata": {},
   "outputs": [],
   "source": [
    "accs_matching, _ = validate(task_generator=task_generator,\n",
    "                    forward_fn=forward_cosine,\n",
    "                    config=config,\n",
    "                    model=model,\n",
    "                    xor_task=False)\n",
    "np.mean(accs_matching)"
   ]
  },
  {
   "cell_type": "code",
   "execution_count": null,
   "metadata": {},
   "outputs": [],
   "source": [
    "accs_matching_xor, _ = validate(task_generator=task_generator,\n",
    "                    forward_fn=forward_cosine,\n",
    "                    config=config,\n",
    "                    model=model,\n",
    "                    xor_task=True)\n",
    "np.mean(accs_matching_xor)"
   ]
  },
  {
   "cell_type": "markdown",
   "metadata": {},
   "source": [
    "#### FS + Attn"
   ]
  },
  {
   "cell_type": "code",
   "execution_count": null,
   "metadata": {},
   "outputs": [],
   "source": [
    "model, g = train(task_generator=task_generator,\n",
    "                 forward_fn=forward_euclid,\n",
    "                 config=config,\n",
    "                 xor_task=False)"
   ]
  },
  {
   "cell_type": "code",
   "execution_count": null,
   "metadata": {},
   "outputs": [],
   "source": [
    "accs_fs_attn, _ = validate(task_generator=task_generator,\n",
    "                    forward_fn=forward_euclid,\n",
    "                    config=config,\n",
    "                    model=model,\n",
    "                    xor_task=False)\n",
    "np.mean(accs_fs_attn)"
   ]
  },
  {
   "cell_type": "code",
   "execution_count": null,
   "metadata": {},
   "outputs": [],
   "source": [
    "accs_fs_attn_xor, _ = validate(task_generator=task_generator,\n",
    "                    forward_fn=forward_euclid,\n",
    "                    config=config,\n",
    "                    model=model,\n",
    "                    xor_task=True)\n",
    "np.mean(accs_fs_attn_xor)"
   ]
  }
 ],
 "metadata": {
  "kernelspec": {
   "display_name": "pytorch38",
   "language": "python",
   "name": "pytorch38"
  },
  "language_info": {
   "codemirror_mode": {
    "name": "ipython",
    "version": 3
   },
   "file_extension": ".py",
   "mimetype": "text/x-python",
   "name": "python",
   "nbconvert_exporter": "python",
   "pygments_lexer": "ipython3",
   "version": "3.8.5"
  }
 },
 "nbformat": 4,
 "nbformat_minor": 4
}
